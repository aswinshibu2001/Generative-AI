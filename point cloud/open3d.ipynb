{
 "cells": [
  {
   "cell_type": "markdown",
   "metadata": {},
   "source": [
    "The dataset contain 65536 points in a 3d point cloud file.\n",
    "Voxel downsampling is done to reduce the number of points in the point cloud while preserving its overall structure. \n",
    "It works by grouping nearby points into voxels (small 3D cubes) and replacing them with a single representative point per voxel.\n",
    "The file is saved to the disk with name smoothed.ply "
   ]
  },
  {
   "cell_type": "code",
   "execution_count": 17,
   "metadata": {},
   "outputs": [
    {
     "name": "stdout",
     "output_type": "stream",
     "text": [
      "shape of the numpy array (65536, 3)\n",
      "[[ 9.998086    0.          0.        ]\n",
      " [ 9.994803    0.24535865  0.        ]\n",
      " [ 9.985485    0.4905554   0.        ]\n",
      " ...\n",
      " [19.84671    -1.4639814  40.        ]\n",
      " [19.879618   -0.97662306 40.        ]\n",
      " [19.900478   -0.48852932 40.        ]]\n"
     ]
    }
   ],
   "source": [
    "import open3d as o3d\n",
    "import numpy as np\n",
    "\n",
    "data=np.load(\"3d_shape_points_data.npz\")\n",
    "points = data['points']\n",
    "\n",
    "print(f'shape of the numpy array {points.shape}')\n",
    "print(points)\n",
    "\n",
    "# Create an Open3D point cloud object\n",
    "pcd = o3d.geometry.PointCloud()\n",
    "pcd.points = o3d.utility.Vector3dVector(points)\n",
    "\n",
    "# Apply MLS smoothing\n",
    "pcd_smoothed = pcd.voxel_down_sample(voxel_size=0.5)\n",
    "\n",
    "# o3d.visualization.draw_geometries([pcd_smoothed])\n"
   ]
  },
  {
   "cell_type": "markdown",
   "metadata": {},
   "source": [
    "visualizing the figure using slices of points from the point cloud file , the shape resembles to a cylinder with about 3 deformations on its surface\n",
    "the deformation happens to be of the type misaligned points in the point cloud.\n",
    "so outliers are removed from the file "
   ]
  },
  {
   "cell_type": "code",
   "execution_count": 18,
   "metadata": {},
   "outputs": [],
   "source": [
    "# remove outliers if any\n",
    "\n",
    "cl, ind = pcd.remove_statistical_outlier(nb_neighbors=20, std_ratio=1)\n",
    "filtered_pcd = pcd.select_by_index(ind)\n",
    "# o3d.visualization.draw_geometries([filtered_pcd], window_name=\"Filtered Point Cloud\")\n",
    "pcd=filtered_pcd"
   ]
  },
  {
   "cell_type": "markdown",
   "metadata": {},
   "source": [
    "In the next step I tried to create a mesh from the point clouds to apply some of the mesh processing on it .\n",
    "There are 3 method more commonly used to solve this\n",
    "Alpha shapes \n",
    "\n",
    "Ball pivoting \n",
    "\n",
    "Poisson surface reconstruction \n",
    "\n",
    "I have tried each of these 3 method but a better result was show with Ball pivoting \n",
    "\n",
    "The 3 deformations are clearly visible in the below mesh"
   ]
  },
  {
   "cell_type": "code",
   "execution_count": 19,
   "metadata": {},
   "outputs": [],
   "source": [
    "# creating a mesh from the point cloud using ball pivoting method\n",
    "\n",
    "radii = [0.1,0.2,0.3] \n",
    "pcd.estimate_normals(search_param=o3d.geometry.KDTreeSearchParamHybrid( radius=0.1, max_nn=20)) # normals is required for ball pivoting method\n",
    "\n",
    "mesh = o3d.geometry.TriangleMesh.create_from_point_cloud_ball_pivoting(\n",
    "    pcd, o3d.utility.DoubleVector(radii)\n",
    ")\n",
    "\n",
    "# Compute vertex normals\n",
    "mesh.compute_vertex_normals()\n",
    "o3d.io.write_triangle_mesh(\"deformed_mesh.ply\", mesh)\n",
    "o3d.visualization.draw_geometries([mesh])"
   ]
  },
  {
   "cell_type": "markdown",
   "metadata": {},
   "source": [
    "In the next step I applied some smoothing operation on the mesh trying to resolve the deformations. "
   ]
  },
  {
   "cell_type": "code",
   "execution_count": 20,
   "metadata": {},
   "outputs": [
    {
     "data": {
      "text/plain": [
       "True"
      ]
     },
     "execution_count": 20,
     "metadata": {},
     "output_type": "execute_result"
    }
   ],
   "source": [
    "# some preprocessing on the mesh\n",
    "mesh = mesh.filter_smooth_laplacian(number_of_iterations=100)\n",
    "\n",
    "# Recompute normals for better visualization\n",
    "mesh.compute_vertex_normals()\n",
    "\n",
    "mesh = mesh.filter_smooth_simple(number_of_iterations=5)\n",
    "mesh = mesh.filter_smooth_taubin(number_of_iterations=5)\n",
    "# Visualize the smoothed mesh\n",
    "# o3d.visualization.draw_geometries([mesh])\n",
    "\n",
    "o3d.io.write_triangle_mesh(\"temp_mesh.ply\", mesh)"
   ]
  },
  {
   "cell_type": "markdown",
   "metadata": {},
   "source": [
    "I tried to fill the holes created by removing the deformation using pymeshlab.\n",
    "It was not effective as I imagined. It couldn't alter the shape much"
   ]
  },
  {
   "cell_type": "code",
   "execution_count": 21,
   "metadata": {},
   "outputs": [],
   "source": [
    "# # to fill the holes in the mesh\n",
    "import os\n",
    "import pymeshlab\n",
    "\n",
    "ms = pymeshlab.MeshSet()\n",
    "ms.load_new_mesh(\"temp_mesh.ply\")\n",
    "ms.generate_alpha_wrap(alpha_fraction= 0.03, offset_fraction  = 0.001)\n",
    "ms.save_current_mesh(\"dest_mesh.ply\")\n",
    "\n",
    "# Load the STL file\n",
    "mesh = o3d.io.read_triangle_mesh(\"dest_mesh.ply\")\n",
    "# Visualize the mesh\n",
    "o3d.visualization.draw_geometries([mesh])\n",
    "os.remove(\"temp_mesh.ply\")\n",
    "os.remove(\"dest_mesh.ply\")\n"
   ]
  },
  {
   "cell_type": "markdown",
   "metadata": {},
   "source": [
    "Then I tried to implement the convex hull on the mesh which performed well. It could fill the holes  without altering the original shape much.\n"
   ]
  },
  {
   "cell_type": "code",
   "execution_count": 22,
   "metadata": {},
   "outputs": [],
   "source": [
    "filled_mesh, _ = mesh.compute_convex_hull()\n",
    "\n",
    "# Check if the new mesh is watertight\n",
    "is_filled_watertight = filled_mesh.is_watertight\n",
    "o3d.visualization.draw_geometries([filled_mesh])"
   ]
  },
  {
   "cell_type": "markdown",
   "metadata": {},
   "source": [
    "Lastly I converted the mesh back to the point cloud to visualize the original shape i e, the cylinder."
   ]
  },
  {
   "cell_type": "code",
   "execution_count": 23,
   "metadata": {},
   "outputs": [],
   "source": [
    "# creating the point cloud back from the meshes\n",
    "point_cloud = filled_mesh.sample_points_uniformly(number_of_points=10000)\n",
    "o3d.io.write_point_cloud(\"original_shape.ply\", point_cloud)\n",
    "o3d.visualization.draw_geometries([point_cloud])"
   ]
  }
 ],
 "metadata": {
  "kernelspec": {
   "display_name": "Python 3",
   "language": "python",
   "name": "python3"
  },
  "language_info": {
   "codemirror_mode": {
    "name": "ipython",
    "version": 3
   },
   "file_extension": ".py",
   "mimetype": "text/x-python",
   "name": "python",
   "nbconvert_exporter": "python",
   "pygments_lexer": "ipython3",
   "version": "3.10.0"
  }
 },
 "nbformat": 4,
 "nbformat_minor": 2
}
