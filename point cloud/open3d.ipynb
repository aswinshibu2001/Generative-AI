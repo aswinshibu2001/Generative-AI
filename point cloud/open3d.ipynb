{
 "cells": [
  {
   "cell_type": "code",
   "execution_count": null,
   "metadata": {},
   "outputs": [],
   "source": [
    "import numpy as np\n",
    "import open3d as o3d\n",
    "import pymeshfix as mf\n",
    "\n",
    "data = np.load('3d_shape_points_data.npz')\n",
    "points = data['points']\n",
    "\n",
    "# Create an Open3D point cloud object\n",
    "pcd = o3d.geometry.PointCloud()\n",
    "pcd.points = o3d.utility.Vector3dVector(points)\n",
    "downpcd = pcd.voxel_down_sample(voxel_size=0.05)# reduces the number of points in the point cloud by grouping nearby points into voxels (small 3D grid cells of size 0.05).\n",
    "pcd=downpcd\n",
    "o3d.visualization.draw_geometries([pcd])"
   ]
  },
  {
   "cell_type": "code",
   "execution_count": 24,
   "metadata": {},
   "outputs": [],
   "source": [
    "# remove outliers if any\n",
    "# cl, ind = pcd.remove_radius_outlier(nb_points=2, radius=0.1)\n",
    "cl, ind = pcd.remove_statistical_outlier(nb_neighbors=20, std_ratio=1)\n",
    "filtered_pcd = pcd.select_by_index(ind)\n",
    "o3d.visualization.draw_geometries([filtered_pcd], window_name=\"Filtered Point Cloud\")\n",
    "pcd=filtered_pcd"
   ]
  },
  {
   "cell_type": "code",
   "execution_count": 25,
   "metadata": {},
   "outputs": [
    {
     "name": "stdout",
     "output_type": "stream",
     "text": [
      "alpha=0.500\n"
     ]
    }
   ],
   "source": [
    "# creating a mesh from the point cloud using alpha shape\n",
    "alpha = 0.5\n",
    "print(f\"alpha={alpha:.3f}\")\n",
    "mesh = o3d.geometry.TriangleMesh.create_from_point_cloud_alpha_shape(pcd, alpha)\n",
    "mesh.compute_vertex_normals()\n",
    "o3d.visualization.draw_geometries([mesh])"
   ]
  },
  {
   "cell_type": "code",
   "execution_count": null,
   "metadata": {},
   "outputs": [],
   "source": [
    "mesh = mesh.filter_smooth_laplacian(number_of_iterations=100)\n",
    "\n",
    "mesh.compute_vertex_normals()\n",
    "o3d.visualization.draw_geometries([mesh])\n",
    "\n",
    "point_cloud = mesh.sample_points_uniformly(number_of_points=10000)\n",
    "o3d.visualization.draw_geometries([point_cloud])"
   ]
  },
  {
   "cell_type": "code",
   "execution_count": 34,
   "metadata": {},
   "outputs": [],
   "source": [
    "# creating a mesh from the point cloud using poisson\n",
    "pcd.estimate_normals(search_param=o3d.geometry.KDTreeSearchParamHybrid( radius=0.1, max_nn=20))\n",
    "mesh , densities = o3d.geometry.TriangleMesh.create_from_point_cloud_poisson(pcd, depth=9)\n",
    "o3d.visualization.draw_geometries([mesh])\n"
   ]
  },
  {
   "cell_type": "code",
   "execution_count": 37,
   "metadata": {},
   "outputs": [
    {
     "ename": "RuntimeError",
     "evalue": "[Open3D Error] (class std::shared_ptr<class open3d::geometry::TriangleMesh> __cdecl open3d::geometry::TriangleMesh::DeformAsRigidAsPossible(const class std::vector<int,class std::allocator<int> > &,const class std::vector<class Eigen::Matrix<double,3,1,0,3,1>,class std::allocator<class Eigen::Matrix<double,3,1,0,3,1> > > &,unsigned __int64,enum open3d::geometry::MeshBase::DeformAsRigidAsPossibleEnergy,double) const) D:\\a\\Open3D\\Open3D\\cpp\\open3d\\geometry\\TriangleMeshDeformation.cpp:82: Failed to build solver (factorize)\n",
     "output_type": "error",
     "traceback": [
      "\u001b[1;31m---------------------------------------------------------------------------\u001b[0m",
      "\u001b[1;31mRuntimeError\u001b[0m                              Traceback (most recent call last)",
      "Cell \u001b[1;32mIn[37], line 11\u001b[0m\n\u001b[0;32m      8\u001b[0m constraint_positions_o3d \u001b[38;5;241m=\u001b[39m o3d\u001b[38;5;241m.\u001b[39mutility\u001b[38;5;241m.\u001b[39mVector3dVector(constraint_positions)  \u001b[38;5;66;03m# Convert to Open3D format\u001b[39;00m\n\u001b[0;32m     10\u001b[0m \u001b[38;5;66;03m# Apply ARAP smoothing\u001b[39;00m\n\u001b[1;32m---> 11\u001b[0m smoothed_mesh \u001b[38;5;241m=\u001b[39m \u001b[43mmesh\u001b[49m\u001b[38;5;241;43m.\u001b[39;49m\u001b[43mdeform_as_rigid_as_possible\u001b[49m\u001b[43m(\u001b[49m\n\u001b[0;32m     12\u001b[0m \u001b[43m    \u001b[49m\u001b[43mconstraint_vertex_indices\u001b[49m\u001b[38;5;241;43m=\u001b[39;49m\u001b[43mconstraint_indices_o3d\u001b[49m\u001b[43m,\u001b[49m\n\u001b[0;32m     13\u001b[0m \u001b[43m    \u001b[49m\u001b[43mconstraint_vertex_positions\u001b[49m\u001b[38;5;241;43m=\u001b[39;49m\u001b[43mconstraint_positions_o3d\u001b[49m\u001b[43m,\u001b[49m\n\u001b[0;32m     14\u001b[0m \u001b[43m    \u001b[49m\u001b[43mmax_iter\u001b[49m\u001b[38;5;241;43m=\u001b[39;49m\u001b[38;5;241;43m50\u001b[39;49m\n\u001b[0;32m     15\u001b[0m \u001b[43m)\u001b[49m\n\u001b[0;32m     17\u001b[0m \u001b[38;5;66;03m# Visualize smoothed mesh\u001b[39;00m\n\u001b[0;32m     18\u001b[0m o3d\u001b[38;5;241m.\u001b[39mvisualization\u001b[38;5;241m.\u001b[39mdraw_geometries([smoothed_mesh])\n",
      "\u001b[1;31mRuntimeError\u001b[0m: [Open3D Error] (class std::shared_ptr<class open3d::geometry::TriangleMesh> __cdecl open3d::geometry::TriangleMesh::DeformAsRigidAsPossible(const class std::vector<int,class std::allocator<int> > &,const class std::vector<class Eigen::Matrix<double,3,1,0,3,1>,class std::allocator<class Eigen::Matrix<double,3,1,0,3,1> > > &,unsigned __int64,enum open3d::geometry::MeshBase::DeformAsRigidAsPossibleEnergy,double) const) D:\\a\\Open3D\\Open3D\\cpp\\open3d\\geometry\\TriangleMeshDeformation.cpp:82: Failed to build solver (factorize)\n"
     ]
    }
   ],
   "source": [
    "constraint_ids = np.random.choice(len(mesh.vertices), size=10, replace=False)  # Select 10 random points\n",
    "\n",
    "# Convert indices to Open3D IntVector format\n",
    "constraint_indices_o3d = o3d.utility.IntVector(constraint_ids)\n",
    "\n",
    "# Get their original positions\n",
    "constraint_positions = np.asarray(mesh.vertices)[constraint_ids]  # Extract original positions\n",
    "constraint_positions_o3d = o3d.utility.Vector3dVector(constraint_positions)  # Convert to Open3D format\n",
    "\n",
    "# Apply ARAP smoothing\n",
    "smoothed_mesh = mesh.deform_as_rigid_as_possible(\n",
    "    constraint_vertex_indices=constraint_indices_o3d,\n",
    "    constraint_vertex_positions=constraint_positions_o3d,\n",
    "    max_iter=50\n",
    ")\n",
    "\n",
    "# Visualize smoothed mesh\n",
    "o3d.visualization.draw_geometries([smoothed_mesh])"
   ]
  },
  {
   "cell_type": "code",
   "execution_count": 35,
   "metadata": {},
   "outputs": [],
   "source": [
    "#visulising mesh created from poisson\n",
    "mesh = mesh.filter_smooth_laplacian(number_of_iterations=100)\n",
    "\n",
    "mesh.compute_vertex_normals()\n",
    "# o3d.visualization.draw_geometries([mesh])\n",
    "\n",
    "point_cloud = mesh.sample_points_uniformly(number_of_points=10000)\n",
    "# o3d.visualization.draw_geometries([point_cloud])\n",
    "cl, ind = point_cloud.remove_statistical_outlier(nb_neighbors=20, std_ratio=2.0)\n",
    "pcd_clean = pcd.select_by_index(ind)\n",
    "o3d.visualization.draw_geometries([pcd_clean])"
   ]
  },
  {
   "cell_type": "code",
   "execution_count": 30,
   "metadata": {},
   "outputs": [
    {
     "name": "stdout",
     "output_type": "stream",
     "text": [
      "[Open3D WARNING] [AddGeometry] Invalid pointer. Possibly a null pointer or None was passed in.\n",
      "[Open3D WARNING] [DrawGeometries] Failed adding geometry.\n",
      "[Open3D WARNING] [DrawGeometries] Possibly due to bad geometry or wrong geometry type.\n"
     ]
    }
   ],
   "source": [
    "# processing the mesh from the poisson\n",
    "mesh.compute_vertex_normals()\n",
    "\n",
    "# Compute curvature (using normal variation)\n",
    "curvatures = np.linalg.norm(np.asarray(mesh.vertex_normals), axis=1)\n",
    "\n",
    "# Set a threshold to remove high-curvature vertices\n",
    "threshold = np.percentile(curvatures, 95)  # Remove top 5% of high-curvature vertices\n",
    "outlier_indices = np.where(curvatures > threshold)[0]\n",
    "\n",
    "# Keep only the remaining vertices\n",
    "mesh_clean = mesh.remove_vertices_by_index(outlier_indices)\n",
    "\n",
    "# Visualize cleaned mesh\n",
    "o3d.visualization.draw_geometries([mesh_clean])"
   ]
  },
  {
   "cell_type": "code",
   "execution_count": 4,
   "metadata": {},
   "outputs": [],
   "source": [
    "# radii = [0.5,1,2]  # Adjust radii carefully\n",
    "radii = [0.1,0.2,0.3] \n",
    "mesh = o3d.geometry.TriangleMesh.create_from_point_cloud_ball_pivoting(\n",
    "    pcd, o3d.utility.DoubleVector(radii)\n",
    ")\n",
    "\n",
    "# Compute vertex normals\n",
    "mesh.compute_vertex_normals()\n",
    "\n",
    "o3d.visualization.draw_geometries([mesh])"
   ]
  },
  {
   "cell_type": "code",
   "execution_count": 14,
   "metadata": {},
   "outputs": [],
   "source": [
    "mesh = mesh.filter_smooth_laplacian(number_of_iterations=100)\n",
    "\n",
    "# Recompute normals for better visualization\n",
    "mesh.compute_vertex_normals()\n",
    "# mesh = mesh.fill_holes()\n",
    "# mesh = mesh.filter_smooth_simple(number_of_iterations=5)\n",
    "# mesh = mesh.filter_smooth_taubin(number_of_iterations=5)\n",
    "# Visualize the smoothed mesh\n",
    "o3d.visualization.draw_geometries([mesh])"
   ]
  },
  {
   "cell_type": "code",
   "execution_count": 17,
   "metadata": {},
   "outputs": [],
   "source": [
    "point_cloud = mesh.sample_points_uniformly(number_of_points=10000)\n",
    "o3d.visualization.draw_geometries([point_cloud])"
   ]
  },
  {
   "cell_type": "code",
   "execution_count": 18,
   "metadata": {},
   "outputs": [
    {
     "ename": "AttributeError",
     "evalue": "module 'pymeshlab' has no attribute 'resolve_self_intersection'",
     "output_type": "error",
     "traceback": [
      "\u001b[1;31m---------------------------------------------------------------------------\u001b[0m",
      "\u001b[1;31mAttributeError\u001b[0m                            Traceback (most recent call last)",
      "Cell \u001b[1;32mIn[18], line 2\u001b[0m\n\u001b[0;32m      1\u001b[0m \u001b[38;5;28;01mimport\u001b[39;00m\u001b[38;5;250m \u001b[39m\u001b[38;5;21;01mpymeshlab\u001b[39;00m\n\u001b[1;32m----> 2\u001b[0m remeshed_mesh \u001b[38;5;241m=\u001b[39m \u001b[43mpymeshlab\u001b[49m\u001b[38;5;241;43m.\u001b[39;49m\u001b[43mresolve_self_intersection\u001b[49m(mesh)\n\u001b[0;32m      3\u001b[0m o3d\u001b[38;5;241m.\u001b[39mvisualization\u001b[38;5;241m.\u001b[39mdraw_geometries([remeshed_mesh])\n",
      "\u001b[1;31mAttributeError\u001b[0m: module 'pymeshlab' has no attribute 'resolve_self_intersection'"
     ]
    }
   ],
   "source": [
    "import pymeshlab\n",
    "remeshed_mesh = pymeshlab.resolve_self_intersection(mesh)\n",
    "o3d.visualization.draw_geometries([remeshed_mesh])"
   ]
  }
 ],
 "metadata": {
  "kernelspec": {
   "display_name": "myenv",
   "language": "python",
   "name": "python3"
  },
  "language_info": {
   "codemirror_mode": {
    "name": "ipython",
    "version": 3
   },
   "file_extension": ".py",
   "mimetype": "text/x-python",
   "name": "python",
   "nbconvert_exporter": "python",
   "pygments_lexer": "ipython3",
   "version": "3.10.0"
  }
 },
 "nbformat": 4,
 "nbformat_minor": 2
}
