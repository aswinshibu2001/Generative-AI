{
 "cells": [
  {
   "cell_type": "code",
   "execution_count": 1,
   "metadata": {},
   "outputs": [
    {
     "name": "stdout",
     "output_type": "stream",
     "text": [
      "Jupyter environment detected. Enabling Open3D WebVisualizer.\n",
      "[Open3D INFO] WebRTC GUI backend enabled.\n",
      "[Open3D INFO] WebRTCWindowSystem: HTTP handshake server disabled.\n",
      "shape of the numpy array (65536, 3)\n",
      "[[ 9.998086    0.          0.        ]\n",
      " [ 9.994803    0.24535865  0.        ]\n",
      " [ 9.985485    0.4905554   0.        ]\n",
      " ...\n",
      " [19.84671    -1.4639814  40.        ]\n",
      " [19.879618   -0.97662306 40.        ]\n",
      " [19.900478   -0.48852932 40.        ]]\n"
     ]
    },
    {
     "data": {
      "text/plain": [
       "True"
      ]
     },
     "execution_count": 1,
     "metadata": {},
     "output_type": "execute_result"
    }
   ],
   "source": [
    "import open3d as o3d\n",
    "import numpy as np\n",
    "\n",
    "data=np.load(\"3d_shape_points_data.npz\")\n",
    "points = data['points']\n",
    "\n",
    "print(f'shape of the numpy array {points.shape}')\n",
    "print(points)\n",
    "\n",
    "# Create an Open3D point cloud object\n",
    "pcd = o3d.geometry.PointCloud()\n",
    "pcd.points = o3d.utility.Vector3dVector(points)\n",
    "\n",
    "# Apply MLS smoothing\n",
    "pcd_smoothed = pcd.voxel_down_sample(voxel_size=0.5)\n",
    "o3d.io.write_point_cloud(\"smoothed.ply\", pcd_smoothed)\n",
    "# o3d.visualization.draw_geometries([pcd_smoothed])\n"
   ]
  },
  {
   "cell_type": "code",
   "execution_count": 2,
   "metadata": {},
   "outputs": [],
   "source": [
    "# remove outliers if any\n",
    "\n",
    "cl, ind = pcd.remove_statistical_outlier(nb_neighbors=20, std_ratio=1)\n",
    "filtered_pcd = pcd.select_by_index(ind)\n",
    "# o3d.visualization.draw_geometries([filtered_pcd], window_name=\"Filtered Point Cloud\")\n",
    "pcd=filtered_pcd"
   ]
  },
  {
   "cell_type": "code",
   "execution_count": 3,
   "metadata": {},
   "outputs": [
    {
     "data": {
      "text/plain": [
       "TriangleMesh with 53598 points and 106458 triangles."
      ]
     },
     "execution_count": 3,
     "metadata": {},
     "output_type": "execute_result"
    }
   ],
   "source": [
    "# creating a mesh from the point cloud using ball pivoting method\n",
    "\n",
    "radii = [0.1,0.2,0.3] \n",
    "pcd.estimate_normals(search_param=o3d.geometry.KDTreeSearchParamHybrid( radius=0.1, max_nn=20)) # normals is required for ball pivoting method\n",
    "\n",
    "mesh = o3d.geometry.TriangleMesh.create_from_point_cloud_ball_pivoting(\n",
    "    pcd, o3d.utility.DoubleVector(radii)\n",
    ")\n",
    "\n",
    "# Compute vertex normals\n",
    "mesh.compute_vertex_normals()\n",
    "\n",
    "# o3d.visualization.draw_geometries([mesh])"
   ]
  },
  {
   "cell_type": "code",
   "execution_count": 4,
   "metadata": {},
   "outputs": [
    {
     "data": {
      "text/plain": [
       "True"
      ]
     },
     "execution_count": 4,
     "metadata": {},
     "output_type": "execute_result"
    }
   ],
   "source": [
    "# some preprocessing on the mesh\n",
    "mesh = mesh.filter_smooth_laplacian(number_of_iterations=100)\n",
    "\n",
    "# Recompute normals for better visualization\n",
    "mesh.compute_vertex_normals()\n",
    "\n",
    "mesh = mesh.filter_smooth_simple(number_of_iterations=5)\n",
    "mesh = mesh.filter_smooth_taubin(number_of_iterations=5)\n",
    "# Visualize the smoothed mesh\n",
    "# o3d.visualization.draw_geometries([mesh])\n",
    "\n",
    "o3d.io.write_triangle_mesh(\"temp_mesh.ply\", mesh)"
   ]
  },
  {
   "cell_type": "code",
   "execution_count": 5,
   "metadata": {},
   "outputs": [],
   "source": [
    "# to fill the holes in the mesh\n",
    "\n",
    "# import pymeshlab\n",
    "\n",
    "# ms = pymeshlab.MeshSet()\n",
    "# ms.load_new_mesh(\"temp_mesh.obj\")\n",
    "# ms.generate_alpha_wrap(alpha_fraction= 0.03, offset_fraction  = 0.001)\n",
    "# ms.save_current_mesh(\"dest_mesh.stl\")\n"
   ]
  },
  {
   "cell_type": "code",
   "execution_count": 6,
   "metadata": {},
   "outputs": [
    {
     "ename": "",
     "evalue": "",
     "output_type": "error",
     "traceback": [
      "\u001b[1;31mThe Kernel crashed while executing code in the current cell or a previous cell. \n",
      "\u001b[1;31mPlease review the code in the cell(s) to identify a possible cause of the failure. \n",
      "\u001b[1;31mClick <a href='https://aka.ms/vscodeJupyterKernelCrash'>here</a> for more info. \n",
      "\u001b[1;31mView Jupyter <a href='command:jupyter.viewOutput'>log</a> for further details."
     ]
    }
   ],
   "source": [
    "import numpy as np\n",
    "import pyvista as pv\n",
    "\n",
    "from pymeshfix import PyTMesh\n",
    "\n",
    "filename = \"temp_mesh.ply\"\n",
    "\n",
    "orig_mesh = pv.read(filename)\n",
    "mfix = PyTMesh(False)\n",
    "mfix.load_file(filename)\n",
    "\n",
    "# Fills all the holes having at least 'nbe' boundary edges. If\n",
    "# 'refine' is true, adds inner vertices to reproduce the\n",
    "# sampling density of the surroundings. Returns number of holes\n",
    "# patched.  If 'nbe' is 0 (default), all the holes are patched.\n",
    "mfix.fill_small_boundaries(nbe=100, refine=True)\n",
    "\n",
    "vert, faces = mfix.return_arrays()\n",
    "\n",
    "triangles = np.empty((faces.shape[0], 4))\n",
    "triangles[:, -3:] = faces\n",
    "triangles[:, 0] = 3\n",
    "\n",
    "# meshnew = pv.PolyData(vert, triangles)\n",
    "# meshnew.plot()"
   ]
  },
  {
   "cell_type": "code",
   "execution_count": null,
   "metadata": {},
   "outputs": [],
   "source": [
    "# Load the STL file\n",
    "mesh = o3d.io.read_triangle_mesh(\"dest_mesh.stl\")\n",
    "# Visualize the mesh\n",
    "o3d.visualization.draw_geometries([mesh])"
   ]
  },
  {
   "cell_type": "code",
   "execution_count": null,
   "metadata": {},
   "outputs": [],
   "source": [
    "# creating the point cloud back from the meshes\n",
    "point_cloud = mesh.sample_points_uniformly(number_of_points=10000)\n",
    "o3d.visualization.draw_geometries([point_cloud])"
   ]
  },
  {
   "cell_type": "code",
   "execution_count": 11,
   "metadata": {},
   "outputs": [],
   "source": [
    "mesh.compute_vertex_normals()\n",
    "\n",
    "# Poisson reconstruction (better for smooth surfaces)\n",
    "mesh, densities = o3d.geometry.TriangleMesh.create_from_point_cloud_poisson(mesh.sample_points_poisson_disk(5000), depth=8)\n",
    "\n",
    "# Visualize\n",
    "o3d.visualization.draw_geometries([mesh])"
   ]
  }
 ],
 "metadata": {
  "kernelspec": {
   "display_name": "myenv",
   "language": "python",
   "name": "python3"
  },
  "language_info": {
   "codemirror_mode": {
    "name": "ipython",
    "version": 3
   },
   "file_extension": ".py",
   "mimetype": "text/x-python",
   "name": "python",
   "nbconvert_exporter": "python",
   "pygments_lexer": "ipython3",
   "version": "3.10.0"
  }
 },
 "nbformat": 4,
 "nbformat_minor": 2
}
